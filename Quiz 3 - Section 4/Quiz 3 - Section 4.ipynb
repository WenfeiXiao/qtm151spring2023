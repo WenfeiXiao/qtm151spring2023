{
 "cells": [
  {
   "attachments": {},
   "cell_type": "markdown",
   "metadata": {},
   "source": [
    "# <span style=\"color:darkblue\"> QTM 151 - Quiz 3 </span>"
   ]
  },
  {
   "attachments": {},
   "cell_type": "markdown",
   "metadata": {},
   "source": [
    "## Try to submit as an HTML file"
   ]
  },
  {
   "attachments": {},
   "cell_type": "markdown",
   "metadata": {},
   "source": [
    "<font size=\"5\"> \n",
    "\n",
    "Print your name below"
   ]
  },
  {
   "cell_type": "code",
   "execution_count": 1,
   "metadata": {},
   "outputs": [
    {
     "name": "stdout",
     "output_type": "stream",
     "text": [
      "Fiona Xiao\n"
     ]
    }
   ],
   "source": [
    "# Write your answer here\n",
    "\n",
    "print(\"Fiona Xiao\")\n"
   ]
  },
  {
   "attachments": {},
   "cell_type": "markdown",
   "metadata": {},
   "source": [
    "<font size = \"5\" >\n",
    "This quiz is open book \n",
    "\n",
    "- You can use the lecture notes\n",
    "- You will get partial credit for attempting the questions\n",
    "- To get full credit, the code should run as intended\n",
    "- You should <span style=\"color:red\"> NOT </span> communicate with other students\n",
    "\n",
    "Print the following message: <br>\n",
    "\n",
    "\"I will abide by Emory's code of conduct\"\n"
   ]
  },
  {
   "cell_type": "code",
   "execution_count": 2,
   "metadata": {},
   "outputs": [
    {
     "name": "stdout",
     "output_type": "stream",
     "text": [
      "I will abide by Emory's code of conduct\n"
     ]
    }
   ],
   "source": [
    "# Write your answer here:\n",
    "\n",
    "\n",
    "print (\"I will abide by Emory's code of conduct\")\n"
   ]
  },
  {
   "attachments": {},
   "cell_type": "markdown",
   "metadata": {},
   "source": [
    "<font size = \"5\">\n",
    "\n",
    "Import the libraries \"numpy\" and \"pandas\""
   ]
  },
  {
   "cell_type": "code",
   "execution_count": 13,
   "metadata": {},
   "outputs": [],
   "source": [
    "# Write your answer here\n",
    "\n",
    "import numpy as np\n",
    "import pandas as pd"
   ]
  },
  {
   "attachments": {},
   "cell_type": "markdown",
   "metadata": {},
   "source": [
    "\n",
    "<font size = \"5\">\n",
    "\n",
    "(a) Replace the values of a column\n",
    "\n",
    "<font size = \"3\">\n",
    "\n",
    "- Import the \"data_raw/driver_standings.csv\" file\n",
    "- Replace the values \"D\" with 26 in the column \"positionText\"\n",
    "- Create a new column \"positionNumeric\" that converts <br>\n",
    "the modified \"positionText\" column from string to numeric <br>\n",
    "using ```pd.to_numeric()```\n",
    "\n",
    "HINT: See the example in Lecture 13"
   ]
  },
  {
   "cell_type": "code",
   "execution_count": 36,
   "metadata": {},
   "outputs": [],
   "source": [
    "# Write your own code\n",
    "\n",
    "\n",
    "driver = pd.read_csv(\"data_raw/driver_standings.csv\")\n",
    "\n",
    "list_old = ['D']\n",
    "list_new = [26]\n",
    "\n",
    "driver[\"positionText\"] = driver[\"positionText\"].replace (list_old, list_new)\n",
    "driver[\"positionNumeric\"] = pd.to_numeric(driver[\"positionText\"])\n"
   ]
  },
  {
   "attachments": {},
   "cell_type": "markdown",
   "metadata": {},
   "source": [
    "<font size = \"5\">\n",
    "\n",
    "(b) Recode a numeric colum\n",
    "\n",
    "<font size = \"3\">\n",
    "\n",
    "- Import the \"data_raw/seasons.csv\" file\n",
    "- Recode the \"year\" column into a new column \"year_brackets\" <br>\n",
    "with the following categories\n",
    "\n",
    "$\\qquad$ ``` [\"1950-1970\",\"1971-1990\",\"1991-2005\", \"2006-2020\", \"2020-onwards\"] ```\n",
    "\n",
    "$\\qquad$ HINT: Use the \"pd.cut()\" command."
   ]
  },
  {
   "cell_type": "code",
   "execution_count": 34,
   "metadata": {},
   "outputs": [],
   "source": [
    "# Write your own code\n",
    "\n",
    "seasons = pd.read_csv(\"data_raw/seasons.csv\")\n",
    "\n",
    "bin_x = [1950, 1970, 1990, 2005, 2020, 100000]\n",
    "\n",
    "labels_x = [\"1950-1970\",\"1971-1990\",\"1991-2005\", \"2006-2020\", \"2020-onwards\"]\n",
    "\n",
    "seasons[\"year_brackets\"] = pd.cut(seasons[\"year\"],\n",
    "                              bins = bin_x,\n",
    "                              right = True,\n",
    "                              labels = labels_x)\n"
   ]
  },
  {
   "attachments": {},
   "cell_type": "markdown",
   "metadata": {},
   "source": [
    "<font size = \"5\">\n",
    "\n",
    "(c) Aggregate and query\n",
    "\n",
    "<font size = \"3\">\n",
    "\n",
    "- Import the \"data_raw/driver_standings.csv\" file\n",
    "- Subset the observations for 'raceId $\\ge$ 99' using ```.query()```\n",
    "- Obtain the mean of \"points\" by \"driverId\" <br> \n",
    " using ``` .groupby().agg() ```\n",
    "- Subset the drivers with a mean of points $\\ge 40$\n",
    "- Store the results of all these operations in a dataframe <br>\n",
    "```driver_standings_agg ```"
   ]
  },
  {
   "cell_type": "code",
   "execution_count": 33,
   "metadata": {},
   "outputs": [],
   "source": [
    "# Write your own code\n",
    "\n",
    "driver = pd.read_csv(\"data_raw/driver_standings.csv\")\n",
    "\n",
    "driver_standing_agg = (driver.query(\"raceId >= 99\")\n",
    "                       .groupby([\"driverId\"])\n",
    "                        .agg(mean_points = ('points','mean'))\n",
    "                        .query(\"mean_points >= 40\"))\n",
    "\n"
   ]
  },
  {
   "attachments": {},
   "cell_type": "markdown",
   "metadata": {},
   "source": [
    "<font size = \"5\">\n",
    "\n",
    "(d) Aggregate and sort\n",
    "\n",
    "<font size = \"3\">\n",
    "\n",
    "- Import the \"data_raw/driver_standings.csv\" file\n",
    "- Obtain the mean of \"points\" by \"driverId\" <br> \n",
    "using ``` .groupby().agg() ```\n",
    "- Sort the teams in descending order using of <br>\n",
    "the mean of points using ``` .sort_values() ```"
   ]
  },
  {
   "cell_type": "code",
   "execution_count": 24,
   "metadata": {},
   "outputs": [],
   "source": [
    "# Write your own code\n",
    "\n",
    "driver = pd.read_csv(\"data_raw/driver_standings.csv\")\n",
    "\n",
    "driver_sort = (driver.groupby([\"driverId\"])\n",
    "                    .agg(mean_points = ('points','mean'))\n",
    "                    .sort_values(by = \"mean_points\", ascending = False))\n"
   ]
  },
  {
   "attachments": {},
   "cell_type": "markdown",
   "metadata": {},
   "source": [
    "<font size = \"5\">\n",
    "\n",
    "(e) Rename column\n",
    "\n",
    "<font size = \"3\">\n",
    "\n",
    "- Import the \"data_raw/driver_standings.csv\" file\n",
    "- Rename the column \"points\" to \"points_driver\"\n",
    "\n",
    "HINT: Create a dictionary and use ```.rename(columns = ...)``` <br>\n",
    "See Lecture 15"
   ]
  },
  {
   "cell_type": "code",
   "execution_count": 27,
   "metadata": {},
   "outputs": [],
   "source": [
    "# Write your own code\n",
    "\n",
    "driver_raw = pd.read_csv(\"data_raw/driver_standings.csv\")\n",
    "\n",
    "dict_rename_races = { \"points\": \"points_driver\" }\n",
    "driver = driver_raw.rename(columns = dict_rename_races)\n",
    "\n"
   ]
  },
  {
   "attachments": {},
   "cell_type": "markdown",
   "metadata": {},
   "source": [
    "<font size = \"5\">\n",
    "\n",
    "(f) Merge dataset\n",
    "\n",
    "<font size = \"3\">\n",
    "\n",
    "- Import the \"data_raw/driver_standings.csv\" and <br>\n",
    "\"data_raw/drivers.csv\" files\n",
    "- Create a new dataset with  ```pd.merge()``` using <br>\n",
    "\"driver_standings\" as the primary dataset, and <br>\n",
    "\"drivers\" as the secondary dataset, merging on <br>\n",
    "the column \"driverId\"\n",
    "- To get full points **ONLY** merge the \"surname\" column <br>\n",
    "from the secondary dataset (not all the columns)\n",
    "\n",
    "HINT: Use ```[[...]]``` to extract a subset of columns <br>\n",
    "from the secondary dataset before merging, including the <br>\n",
    "\"driverId\" column"
   ]
  },
  {
   "cell_type": "code",
   "execution_count": 32,
   "metadata": {},
   "outputs": [],
   "source": [
    "# Write your own code\n",
    "\n",
    "driver_standing = pd.read_csv(\"data_raw/driver_standings.csv\")\n",
    "drivers = pd.read_csv(\"data_raw/drivers.csv\")\n",
    "\n",
    "driver_merge = pd.merge(driver_standing,\n",
    "                       drivers[[\"surname\", \"driverId\"]],\n",
    "                       on = \"driverId\",\n",
    "                       how = \"left\")\n",
    "\n"
   ]
  }
 ],
 "metadata": {
  "kernelspec": {
   "display_name": "Python 3",
   "language": "python",
   "name": "python3"
  },
  "language_info": {
   "codemirror_mode": {
    "name": "ipython",
    "version": 3
   },
   "file_extension": ".py",
   "mimetype": "text/x-python",
   "name": "python",
   "nbconvert_exporter": "python",
   "pygments_lexer": "ipython3",
   "version": "3.11.1"
  },
  "orig_nbformat": 4,
  "vscode": {
   "interpreter": {
    "hash": "aee8b7b246df8f9039afb4144a1f6fd8d2ca17a180786b69acc140d282b71a49"
   }
  }
 },
 "nbformat": 4,
 "nbformat_minor": 2
}
